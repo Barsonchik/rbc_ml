{
 "cells": [
  {
   "cell_type": "markdown",
   "id": "513960e0",
   "metadata": {
    "pycharm": {
     "name": "#%% md\n"
    }
   },
   "source": [
    "# Сбор и разметка данных\n",
    "\n",
    "## Урок 9. Инструменты разметки наборов данных\n"
   ]
  },
  {
   "cell_type": "code",
   "execution_count": 1,
   "id": "a9776d84",
   "metadata": {
    "collapsed": false,
    "pycharm": {
     "name": "#%%\n"
    }
   },
   "outputs": [
    {
     "name": "stderr",
     "output_type": "stream",
     "text": [
      "[nltk_data] Downloading package punkt_tab to\n",
      "[nltk_data]     C:\\Users\\Barsonchik\\AppData\\Roaming\\nltk_data...\n",
      "[nltk_data]   Package punkt_tab is already up-to-date!\n"
     ]
    }
   ],
   "source": [
    "import os\n",
    "import wget\n",
    "\n",
    "import pandas as pd\n",
    "\n",
    "from sklearn.model_selection import train_test_split\n",
    "\n",
    "import nltk\n",
    "# Загружаем предобученную модель токенизации текста\n",
    "nltk.download('punkt_tab')\n",
    "\n",
    "from sklearn.utils import shuffle\n",
    "from sklearn.preprocessing import LabelEncoder\n",
    "from sklearn.feature_extraction.text import TfidfVectorizer\n",
    "from sklearn.linear_model import LogisticRegression\n",
    "import numpy as np\n",
    "from sklearn.metrics import f1_score\n",
    "\n",
    "import warnings\n",
    "warnings.filterwarnings(\"ignore\")"
   ]
  },
  {
   "cell_type": "markdown",
   "id": "91ea5389",
   "metadata": {
    "collapsed": false,
    "pycharm": {
     "name": "#%% md\n"
    }
   },
   "source": [
    "### Практическое задание\n",
    "\n",
    "**Задание 1.**\n",
    "Выберите датасет, который имеет отношение к вашей области интересов или исследований. Датасет должен содержать неструктурированные данные, требующие разметки для решения конкретной задачи, например, анализа настроений или распознавания именованных сущностей.\n",
    "\n",
    "Возьмем датасет новостей rbc.ru"
   ]
  },
  {
   "cell_type": "code",
   "execution_count": 2,
   "id": "41a0a415",
   "metadata": {
    "collapsed": false,
    "pycharm": {
     "name": "#%%\n"
    }
   },
   "outputs": [
    {
     "data": {
      "text/html": [
       "<div>\n",
       "<style scoped>\n",
       "    .dataframe tbody tr th:only-of-type {\n",
       "        vertical-align: middle;\n",
       "    }\n",
       "\n",
       "    .dataframe tbody tr th {\n",
       "        vertical-align: top;\n",
       "    }\n",
       "\n",
       "    .dataframe thead th {\n",
       "        text-align: right;\n",
       "    }\n",
       "</style>\n",
       "<table border=\"1\" class=\"dataframe\">\n",
       "  <thead>\n",
       "    <tr style=\"text-align: right;\">\n",
       "      <th></th>\n",
       "      <th>id</th>\n",
       "      <th>project</th>\n",
       "      <th>project_nick</th>\n",
       "      <th>type</th>\n",
       "      <th>category</th>\n",
       "      <th>title</th>\n",
       "      <th>body</th>\n",
       "      <th>publish_date</th>\n",
       "      <th>publish_date_t</th>\n",
       "      <th>fronturl</th>\n",
       "      <th>picture</th>\n",
       "      <th>badge</th>\n",
       "      <th>pay_option</th>\n",
       "      <th>data</th>\n",
       "      <th>_score</th>\n",
       "      <th>overview</th>\n",
       "      <th>text</th>\n",
       "    </tr>\n",
       "  </thead>\n",
       "  <tbody>\n",
       "    <tr>\n",
       "      <th>0</th>\n",
       "      <td>6721d7ee9a79471dad034abd</td>\n",
       "      <td>РБК</td>\n",
       "      <td>rbcnews</td>\n",
       "      <td>short_news</td>\n",
       "      <td>Финансы</td>\n",
       "      <td>«Известия» напомнили о налоге на доходы от вкл...</td>\n",
       "      <td>NaN</td>\n",
       "      <td>2024-10-30T10:16:41+03:00</td>\n",
       "      <td>1730272601</td>\n",
       "      <td>https://www.rbc.ru/rbcfreenews/6721d7ee9a79471...</td>\n",
       "      <td>https://s0.rbk.ru/v6_top_pics/media/img/1/75/3...</td>\n",
       "      <td>NaN</td>\n",
       "      <td>free</td>\n",
       "      <td>NaN</td>\n",
       "      <td>1</td>\n",
       "      <td>NaN</td>\n",
       "      <td>Под налог по итогам 2024 года попадут доходы о...</td>\n",
       "    </tr>\n",
       "    <tr>\n",
       "      <th>1</th>\n",
       "      <td>6721c7b59a7947f5e247c505</td>\n",
       "      <td>РБК</td>\n",
       "      <td>rbcnews</td>\n",
       "      <td>article</td>\n",
       "      <td>Спорт</td>\n",
       "      <td>Овечкин впервые в сезоне сделал дубль и сократ...</td>\n",
       "      <td>Российский форвард Александр Овечкин впервые в...</td>\n",
       "      <td>2024-10-30T10:07:19+03:00</td>\n",
       "      <td>1730272039</td>\n",
       "      <td>https://www.rbc.ru/sport/30/10/2024/6721c7b59a...</td>\n",
       "      <td>https://s0.rbk.ru/v6_top_pics/media/img/2/12/3...</td>\n",
       "      <td>NaN</td>\n",
       "      <td>free</td>\n",
       "      <td>NaN</td>\n",
       "      <td>1</td>\n",
       "      <td>Российский форвард Александр Овечкин впервые в...</td>\n",
       "      <td>«Вашингтон Кэпиталз» обыграл «Нью-Йорк Рейндже...</td>\n",
       "    </tr>\n",
       "    <tr>\n",
       "      <th>2</th>\n",
       "      <td>6721ce5e9a79470242232f14</td>\n",
       "      <td>РБК</td>\n",
       "      <td>rbcnews</td>\n",
       "      <td>article</td>\n",
       "      <td>Политика</td>\n",
       "      <td>Харрис назвала целью Трампа создание «большего...</td>\n",
       "      <td>Харрис назвала Трампа «неуравновешенным» и ука...</td>\n",
       "      <td>2024-10-30T10:02:20+03:00</td>\n",
       "      <td>1730271740</td>\n",
       "      <td>https://www.rbc.ru/politics/30/10/2024/6721ce5...</td>\n",
       "      <td>https://s0.rbk.ru/v6_top_pics/media/img/4/12/3...</td>\n",
       "      <td>NaN</td>\n",
       "      <td>free</td>\n",
       "      <td>NaN</td>\n",
       "      <td>1</td>\n",
       "      <td>Харрис назвала Трампа «неуравновешенным» и ука...</td>\n",
       "      <td>Республиканец Дональд Трамп стремится к бескон...</td>\n",
       "    </tr>\n",
       "    <tr>\n",
       "      <th>3</th>\n",
       "      <td>6721d2c39a7947210be19006</td>\n",
       "      <td>РБК</td>\n",
       "      <td>rbcnews</td>\n",
       "      <td>short_news</td>\n",
       "      <td>Политика</td>\n",
       "      <td>Посольству России не сообщили о задержании жур...</td>\n",
       "      <td>NaN</td>\n",
       "      <td>2024-10-30T09:56:25+03:00</td>\n",
       "      <td>1730271385</td>\n",
       "      <td>https://www.rbc.ru/rbcfreenews/6721d2c39a79472...</td>\n",
       "      <td>https://s0.rbk.ru/v6_top_pics/media/img/0/38/3...</td>\n",
       "      <td>NaN</td>\n",
       "      <td>free</td>\n",
       "      <td>NaN</td>\n",
       "      <td>1</td>\n",
       "      <td>NaN</td>\n",
       "      <td>Власти США не сообщили в посольство России в В...</td>\n",
       "    </tr>\n",
       "    <tr>\n",
       "      <th>4</th>\n",
       "      <td>6721cc239a79475d15fe6523</td>\n",
       "      <td>РБК</td>\n",
       "      <td>rbcnews</td>\n",
       "      <td>article</td>\n",
       "      <td>Политика</td>\n",
       "      <td>NYT узнала, что Израиль нанес удар по крупному...</td>\n",
       "      <td>В ночь на 26 октября Израиль нанес авиаудары п...</td>\n",
       "      <td>2024-10-30T09:43:23+03:00</td>\n",
       "      <td>1730270603</td>\n",
       "      <td>https://www.rbc.ru/politics/30/10/2024/6721cc2...</td>\n",
       "      <td>https://s0.rbk.ru/v6_top_pics/media/img/8/94/3...</td>\n",
       "      <td>NaN</td>\n",
       "      <td>free</td>\n",
       "      <td>NaN</td>\n",
       "      <td>1</td>\n",
       "      <td>В ночь на 26 октября Израиль нанес авиаудары п...</td>\n",
       "      <td>В результате атаки израильских ВВС на Иран в н...</td>\n",
       "    </tr>\n",
       "    <tr>\n",
       "      <th>5</th>\n",
       "      <td>6721d2a09a79479e2d706e56</td>\n",
       "      <td>РБК</td>\n",
       "      <td>rbcnews</td>\n",
       "      <td>article</td>\n",
       "      <td>Общество</td>\n",
       "      <td>Шереметьево на час ограничивало полеты</td>\n",
       "      <td>Ухода рейсов на запасные аэродромы не было</td>\n",
       "      <td>2024-10-30T09:31:00+03:00</td>\n",
       "      <td>1730269860</td>\n",
       "      <td>https://www.rbc.ru/society/30/10/2024/6721d2a0...</td>\n",
       "      <td>https://s0.rbk.ru/v6_top_pics/media/img/2/47/3...</td>\n",
       "      <td>NaN</td>\n",
       "      <td>free</td>\n",
       "      <td>NaN</td>\n",
       "      <td>1</td>\n",
       "      <td>Ухода рейсов на запасные аэродромы не было</td>\n",
       "      <td>Столичный аэропорт Шереметьево не принимал рей...</td>\n",
       "    </tr>\n",
       "    <tr>\n",
       "      <th>6</th>\n",
       "      <td>6721cc2f9a79470e3835e239</td>\n",
       "      <td>РБК</td>\n",
       "      <td>rbcnews</td>\n",
       "      <td>short_news</td>\n",
       "      <td>Общество</td>\n",
       "      <td>В Москве выявили схемы, по которым более 100 ч...</td>\n",
       "      <td>NaN</td>\n",
       "      <td>2024-10-30T09:30:21+03:00</td>\n",
       "      <td>1730269821</td>\n",
       "      <td>https://www.rbc.ru/rbcfreenews/6721cc2f9a79470...</td>\n",
       "      <td>https://s0.rbk.ru/v6_top_pics/media/img/3/12/3...</td>\n",
       "      <td>NaN</td>\n",
       "      <td>free</td>\n",
       "      <td>NaN</td>\n",
       "      <td>1</td>\n",
       "      <td>NaN</td>\n",
       "      <td>В Москве возбудили уголовное дело против мошен...</td>\n",
       "    </tr>\n",
       "    <tr>\n",
       "      <th>7</th>\n",
       "      <td>6720d63d9a79478690f58b0b</td>\n",
       "      <td>РБК</td>\n",
       "      <td>rbcnews</td>\n",
       "      <td>article</td>\n",
       "      <td>Экономика</td>\n",
       "      <td>В РАНХиГС сообщили о снижении доли государства...</td>\n",
       "      <td>Доля государства в ВВП сократилась с 51,7 до 4...</td>\n",
       "      <td>2024-10-30T09:30:19+03:00</td>\n",
       "      <td>1730269819</td>\n",
       "      <td>https://www.rbc.ru/economics/30/10/2024/6720d6...</td>\n",
       "      <td>https://s0.rbk.ru/v6_top_pics/media/img/7/11/3...</td>\n",
       "      <td>NaN</td>\n",
       "      <td>free</td>\n",
       "      <td>NaN</td>\n",
       "      <td>1</td>\n",
       "      <td>Доля государства в ВВП сократилась с 51,7 до 4...</td>\n",
       "      <td>Доля госсектора в экономике России в 2023 году...</td>\n",
       "    </tr>\n",
       "    <tr>\n",
       "      <th>8</th>\n",
       "      <td>6720fff19a794704eedc8a70</td>\n",
       "      <td>РБК</td>\n",
       "      <td>rbcnews</td>\n",
       "      <td>article</td>\n",
       "      <td>Спорт</td>\n",
       "      <td>Экс-судья КХЛ выступил за дисквалификацию трен...</td>\n",
       "      <td>КХЛ оштрафовала «Спартак» из-за поведения боле...</td>\n",
       "      <td>2024-10-30T09:14:08+03:00</td>\n",
       "      <td>1730268848</td>\n",
       "      <td>https://www.rbc.ru/sport/30/10/2024/6720fff19a...</td>\n",
       "      <td>https://s0.rbk.ru/v6_top_pics/media/img/7/00/3...</td>\n",
       "      <td>NaN</td>\n",
       "      <td>free</td>\n",
       "      <td>NaN</td>\n",
       "      <td>1</td>\n",
       "      <td>КХЛ оштрафовала «Спартак» из-за поведения боле...</td>\n",
       "      <td>Главного тренера петербургского СКА Романа Рот...</td>\n",
       "    </tr>\n",
       "    <tr>\n",
       "      <th>9</th>\n",
       "      <td>6721c5499a79470d23d6121b</td>\n",
       "      <td>РБК</td>\n",
       "      <td>rbcnews</td>\n",
       "      <td>article</td>\n",
       "      <td>Политика</td>\n",
       "      <td>Microsoft выявила атаку хакеров из «Полуночной...</td>\n",
       "      <td>Microsoft обвинила хакерскую группировку Midni...</td>\n",
       "      <td>2024-10-30T09:08:31+03:00</td>\n",
       "      <td>1730268511</td>\n",
       "      <td>https://www.rbc.ru/politics/30/10/2024/6721c54...</td>\n",
       "      <td>https://s0.rbk.ru/v6_top_pics/media/img/4/07/3...</td>\n",
       "      <td>NaN</td>\n",
       "      <td>free</td>\n",
       "      <td>NaN</td>\n",
       "      <td>1</td>\n",
       "      <td>Microsoft обвинила хакерскую группировку Midni...</td>\n",
       "      <td>Российская хакерская группировка Midnight Bliz...</td>\n",
       "    </tr>\n",
       "  </tbody>\n",
       "</table>\n",
       "</div>"
      ],
      "text/plain": [
       "                         id project project_nick        type   category  \\\n",
       "0  6721d7ee9a79471dad034abd     РБК      rbcnews  short_news    Финансы   \n",
       "1  6721c7b59a7947f5e247c505     РБК      rbcnews     article      Спорт   \n",
       "2  6721ce5e9a79470242232f14     РБК      rbcnews     article   Политика   \n",
       "3  6721d2c39a7947210be19006     РБК      rbcnews  short_news   Политика   \n",
       "4  6721cc239a79475d15fe6523     РБК      rbcnews     article   Политика   \n",
       "5  6721d2a09a79479e2d706e56     РБК      rbcnews     article   Общество   \n",
       "6  6721cc2f9a79470e3835e239     РБК      rbcnews  short_news   Общество   \n",
       "7  6720d63d9a79478690f58b0b     РБК      rbcnews     article  Экономика   \n",
       "8  6720fff19a794704eedc8a70     РБК      rbcnews     article      Спорт   \n",
       "9  6721c5499a79470d23d6121b     РБК      rbcnews     article   Политика   \n",
       "\n",
       "                                               title  \\\n",
       "0  «Известия» напомнили о налоге на доходы от вкл...   \n",
       "1  Овечкин впервые в сезоне сделал дубль и сократ...   \n",
       "2  Харрис назвала целью Трампа создание «большего...   \n",
       "3  Посольству России не сообщили о задержании жур...   \n",
       "4  NYT узнала, что Израиль нанес удар по крупному...   \n",
       "5             Шереметьево на час ограничивало полеты   \n",
       "6  В Москве выявили схемы, по которым более 100 ч...   \n",
       "7  В РАНХиГС сообщили о снижении доли государства...   \n",
       "8  Экс-судья КХЛ выступил за дисквалификацию трен...   \n",
       "9  Microsoft выявила атаку хакеров из «Полуночной...   \n",
       "\n",
       "                                                body  \\\n",
       "0                                                NaN   \n",
       "1  Российский форвард Александр Овечкин впервые в...   \n",
       "2  Харрис назвала Трампа «неуравновешенным» и ука...   \n",
       "3                                                NaN   \n",
       "4  В ночь на 26 октября Израиль нанес авиаудары п...   \n",
       "5         Ухода рейсов на запасные аэродромы не было   \n",
       "6                                                NaN   \n",
       "7  Доля государства в ВВП сократилась с 51,7 до 4...   \n",
       "8  КХЛ оштрафовала «Спартак» из-за поведения боле...   \n",
       "9  Microsoft обвинила хакерскую группировку Midni...   \n",
       "\n",
       "                publish_date  publish_date_t  \\\n",
       "0  2024-10-30T10:16:41+03:00      1730272601   \n",
       "1  2024-10-30T10:07:19+03:00      1730272039   \n",
       "2  2024-10-30T10:02:20+03:00      1730271740   \n",
       "3  2024-10-30T09:56:25+03:00      1730271385   \n",
       "4  2024-10-30T09:43:23+03:00      1730270603   \n",
       "5  2024-10-30T09:31:00+03:00      1730269860   \n",
       "6  2024-10-30T09:30:21+03:00      1730269821   \n",
       "7  2024-10-30T09:30:19+03:00      1730269819   \n",
       "8  2024-10-30T09:14:08+03:00      1730268848   \n",
       "9  2024-10-30T09:08:31+03:00      1730268511   \n",
       "\n",
       "                                            fronturl  \\\n",
       "0  https://www.rbc.ru/rbcfreenews/6721d7ee9a79471...   \n",
       "1  https://www.rbc.ru/sport/30/10/2024/6721c7b59a...   \n",
       "2  https://www.rbc.ru/politics/30/10/2024/6721ce5...   \n",
       "3  https://www.rbc.ru/rbcfreenews/6721d2c39a79472...   \n",
       "4  https://www.rbc.ru/politics/30/10/2024/6721cc2...   \n",
       "5  https://www.rbc.ru/society/30/10/2024/6721d2a0...   \n",
       "6  https://www.rbc.ru/rbcfreenews/6721cc2f9a79470...   \n",
       "7  https://www.rbc.ru/economics/30/10/2024/6720d6...   \n",
       "8  https://www.rbc.ru/sport/30/10/2024/6720fff19a...   \n",
       "9  https://www.rbc.ru/politics/30/10/2024/6721c54...   \n",
       "\n",
       "                                             picture  badge pay_option  data  \\\n",
       "0  https://s0.rbk.ru/v6_top_pics/media/img/1/75/3...    NaN       free   NaN   \n",
       "1  https://s0.rbk.ru/v6_top_pics/media/img/2/12/3...    NaN       free   NaN   \n",
       "2  https://s0.rbk.ru/v6_top_pics/media/img/4/12/3...    NaN       free   NaN   \n",
       "3  https://s0.rbk.ru/v6_top_pics/media/img/0/38/3...    NaN       free   NaN   \n",
       "4  https://s0.rbk.ru/v6_top_pics/media/img/8/94/3...    NaN       free   NaN   \n",
       "5  https://s0.rbk.ru/v6_top_pics/media/img/2/47/3...    NaN       free   NaN   \n",
       "6  https://s0.rbk.ru/v6_top_pics/media/img/3/12/3...    NaN       free   NaN   \n",
       "7  https://s0.rbk.ru/v6_top_pics/media/img/7/11/3...    NaN       free   NaN   \n",
       "8  https://s0.rbk.ru/v6_top_pics/media/img/7/00/3...    NaN       free   NaN   \n",
       "9  https://s0.rbk.ru/v6_top_pics/media/img/4/07/3...    NaN       free   NaN   \n",
       "\n",
       "   _score                                           overview  \\\n",
       "0       1                                                NaN   \n",
       "1       1  Российский форвард Александр Овечкин впервые в...   \n",
       "2       1  Харрис назвала Трампа «неуравновешенным» и ука...   \n",
       "3       1                                                NaN   \n",
       "4       1  В ночь на 26 октября Израиль нанес авиаудары п...   \n",
       "5       1         Ухода рейсов на запасные аэродромы не было   \n",
       "6       1                                                NaN   \n",
       "7       1  Доля государства в ВВП сократилась с 51,7 до 4...   \n",
       "8       1  КХЛ оштрафовала «Спартак» из-за поведения боле...   \n",
       "9       1  Microsoft обвинила хакерскую группировку Midni...   \n",
       "\n",
       "                                                text  \n",
       "0  Под налог по итогам 2024 года попадут доходы о...  \n",
       "1  «Вашингтон Кэпиталз» обыграл «Нью-Йорк Рейндже...  \n",
       "2  Республиканец Дональд Трамп стремится к бескон...  \n",
       "3  Власти США не сообщили в посольство России в В...  \n",
       "4  В результате атаки израильских ВВС на Иран в н...  \n",
       "5  Столичный аэропорт Шереметьево не принимал рей...  \n",
       "6  В Москве возбудили уголовное дело против мошен...  \n",
       "7  Доля госсектора в экономике России в 2023 году...  \n",
       "8  Главного тренера петербургского СКА Романа Рот...  \n",
       "9  Российская хакерская группировка Midnight Bliz...  "
      ]
     },
     "execution_count": 2,
     "metadata": {},
     "output_type": "execute_result"
    }
   ],
   "source": [
    "df = pd.read_csv('articles.csv', engine='python', on_bad_lines='skip')\n",
    "df.head(10)"
   ]
  },
  {
   "cell_type": "markdown",
   "id": "8809d1c7",
   "metadata": {
    "collapsed": false,
    "pycharm": {
     "name": "#%% md\n"
    }
   },
   "source": [
    "**Задание 2.**\n",
    "Выполните разметку на основе правил (rule-based labeling) на подмножестве выбранного датасета. Разработайте и реализуйте набор правил или условий, которые позволят автоматически присваивать метки данным на основе определенных шаблонов или критериев.\n",
    "\n",
    "Загрузим тональный словарь."
   ]
  },
  {
   "cell_type": "code",
   "execution_count": 3,
   "id": "22c36672",
   "metadata": {
    "collapsed": false,
    "pycharm": {
     "name": "#%%\n"
    }
   },
   "outputs": [],
   "source": [
    "url = 'https://raw.githubusercontent.com/dkulagin/kartaslov/master/dataset/kartaslovsent/kartaslovsent.csv'\n",
    "file = 'kartaslovsent.csv'\n",
    "if not os.path.isfile(\"./kartaslovsent.csv\"):\n",
    "    wget.download(url, out=f\"./{file}\")"
   ]
  },
  {
   "cell_type": "code",
   "execution_count": 4,
   "id": "bffeaf99",
   "metadata": {
    "collapsed": false,
    "pycharm": {
     "name": "#%%\n"
    }
   },
   "outputs": [
    {
     "data": {
      "text/html": [
       "<div>\n",
       "<style scoped>\n",
       "    .dataframe tbody tr th:only-of-type {\n",
       "        vertical-align: middle;\n",
       "    }\n",
       "\n",
       "    .dataframe tbody tr th {\n",
       "        vertical-align: top;\n",
       "    }\n",
       "\n",
       "    .dataframe thead th {\n",
       "        text-align: right;\n",
       "    }\n",
       "</style>\n",
       "<table border=\"1\" class=\"dataframe\">\n",
       "  <thead>\n",
       "    <tr style=\"text-align: right;\">\n",
       "      <th></th>\n",
       "      <th>term</th>\n",
       "      <th>tag</th>\n",
       "      <th>value</th>\n",
       "      <th>pstv</th>\n",
       "      <th>ngtv</th>\n",
       "      <th>neut</th>\n",
       "      <th>dunno</th>\n",
       "      <th>pstvNgtvDisagreementRatio</th>\n",
       "    </tr>\n",
       "  </thead>\n",
       "  <tbody>\n",
       "    <tr>\n",
       "      <th>0</th>\n",
       "      <td>абажур</td>\n",
       "      <td>NEUT</td>\n",
       "      <td>0.08</td>\n",
       "      <td>0.185</td>\n",
       "      <td>0.037</td>\n",
       "      <td>0.580</td>\n",
       "      <td>0.198</td>\n",
       "      <td>0.00</td>\n",
       "    </tr>\n",
       "    <tr>\n",
       "      <th>1</th>\n",
       "      <td>аббатство</td>\n",
       "      <td>NEUT</td>\n",
       "      <td>0.10</td>\n",
       "      <td>0.192</td>\n",
       "      <td>0.038</td>\n",
       "      <td>0.578</td>\n",
       "      <td>0.192</td>\n",
       "      <td>0.00</td>\n",
       "    </tr>\n",
       "    <tr>\n",
       "      <th>2</th>\n",
       "      <td>аббревиатура</td>\n",
       "      <td>NEUT</td>\n",
       "      <td>0.08</td>\n",
       "      <td>0.196</td>\n",
       "      <td>0.000</td>\n",
       "      <td>0.630</td>\n",
       "      <td>0.174</td>\n",
       "      <td>0.00</td>\n",
       "    </tr>\n",
       "    <tr>\n",
       "      <th>3</th>\n",
       "      <td>абзац</td>\n",
       "      <td>NEUT</td>\n",
       "      <td>0.00</td>\n",
       "      <td>0.137</td>\n",
       "      <td>0.000</td>\n",
       "      <td>0.706</td>\n",
       "      <td>0.157</td>\n",
       "      <td>0.00</td>\n",
       "    </tr>\n",
       "    <tr>\n",
       "      <th>4</th>\n",
       "      <td>абиссинец</td>\n",
       "      <td>NEUT</td>\n",
       "      <td>0.28</td>\n",
       "      <td>0.151</td>\n",
       "      <td>0.113</td>\n",
       "      <td>0.245</td>\n",
       "      <td>0.491</td>\n",
       "      <td>0.19</td>\n",
       "    </tr>\n",
       "  </tbody>\n",
       "</table>\n",
       "</div>"
      ],
      "text/plain": [
       "           term   tag  value   pstv   ngtv   neut  dunno  \\\n",
       "0        абажур  NEUT   0.08  0.185  0.037  0.580  0.198   \n",
       "1     аббатство  NEUT   0.10  0.192  0.038  0.578  0.192   \n",
       "2  аббревиатура  NEUT   0.08  0.196  0.000  0.630  0.174   \n",
       "3         абзац  NEUT   0.00  0.137  0.000  0.706  0.157   \n",
       "4     абиссинец  NEUT   0.28  0.151  0.113  0.245  0.491   \n",
       "\n",
       "   pstvNgtvDisagreementRatio  \n",
       "0                       0.00  \n",
       "1                       0.00  \n",
       "2                       0.00  \n",
       "3                       0.00  \n",
       "4                       0.19  "
      ]
     },
     "execution_count": 4,
     "metadata": {},
     "output_type": "execute_result"
    }
   ],
   "source": [
    "df_tone_dic = pd.read_csv('./kartaslovsent.csv', sep=';', on_bad_lines='skip')\n",
    "df_tone_dic.head()"
   ]
  },
  {
   "cell_type": "markdown",
   "id": "67d53d47",
   "metadata": {
    "collapsed": false,
    "pycharm": {
     "name": "#%% md\n"
    }
   },
   "source": [
    "Перемешаем и разделим датафрейм на две части (1-разметка вручную, 2-разметка на основе правил)."
   ]
  },
  {
   "cell_type": "code",
   "execution_count": 5,
   "id": "6b84289e",
   "metadata": {
    "collapsed": false,
    "pycharm": {
     "name": "#%%\n"
    }
   },
   "outputs": [],
   "source": [
    "title1, title2 = train_test_split(df['title'], train_size=5, random_state=42)"
   ]
  },
  {
   "cell_type": "code",
   "execution_count": 6,
   "id": "e6d5beab",
   "metadata": {
    "collapsed": false,
    "pycharm": {
     "name": "#%%\n"
    }
   },
   "outputs": [],
   "source": [
    "df_title1 = pd.DataFrame(title1)"
   ]
  },
  {
   "cell_type": "code",
   "execution_count": 7,
   "id": "816ff553",
   "metadata": {
    "collapsed": false,
    "pycharm": {
     "name": "#%%\n"
    }
   },
   "outputs": [
    {
     "data": {
      "text/html": [
       "<div>\n",
       "<style scoped>\n",
       "    .dataframe tbody tr th:only-of-type {\n",
       "        vertical-align: middle;\n",
       "    }\n",
       "\n",
       "    .dataframe tbody tr th {\n",
       "        vertical-align: top;\n",
       "    }\n",
       "\n",
       "    .dataframe thead th {\n",
       "        text-align: right;\n",
       "    }\n",
       "</style>\n",
       "<table border=\"1\" class=\"dataframe\">\n",
       "  <thead>\n",
       "    <tr style=\"text-align: right;\">\n",
       "      <th></th>\n",
       "      <th>title</th>\n",
       "    </tr>\n",
       "  </thead>\n",
       "  <tbody>\n",
       "    <tr>\n",
       "      <th>12</th>\n",
       "      <td>Апелляционный суд оставил в силе приговор «кра...</td>\n",
       "    </tr>\n",
       "    <tr>\n",
       "      <th>7</th>\n",
       "      <td>В РАНХиГС сообщили о снижении доли государства...</td>\n",
       "    </tr>\n",
       "    <tr>\n",
       "      <th>10</th>\n",
       "      <td>Пожар на складе удобрений в Долгопрудном полно...</td>\n",
       "    </tr>\n",
       "    <tr>\n",
       "      <th>14</th>\n",
       "      <td>Губернатор Курской области рассказал о последс...</td>\n",
       "    </tr>\n",
       "    <tr>\n",
       "      <th>6</th>\n",
       "      <td>В Москве выявили схемы, по которым более 100 ч...</td>\n",
       "    </tr>\n",
       "  </tbody>\n",
       "</table>\n",
       "</div>"
      ],
      "text/plain": [
       "                                                title\n",
       "12  Апелляционный суд оставил в силе приговор «кра...\n",
       "7   В РАНХиГС сообщили о снижении доли государства...\n",
       "10  Пожар на складе удобрений в Долгопрудном полно...\n",
       "14  Губернатор Курской области рассказал о последс...\n",
       "6   В Москве выявили схемы, по которым более 100 ч..."
      ]
     },
     "execution_count": 7,
     "metadata": {},
     "output_type": "execute_result"
    }
   ],
   "source": [
    "df_title1.head()"
   ]
  },
  {
   "cell_type": "code",
   "execution_count": 8,
   "id": "cad38fd8",
   "metadata": {
    "collapsed": false,
    "pycharm": {
     "name": "#%%\n"
    }
   },
   "outputs": [],
   "source": [
    "df_title2 = pd.DataFrame(title2)"
   ]
  },
  {
   "cell_type": "code",
   "execution_count": 9,
   "id": "23ff20a7",
   "metadata": {
    "collapsed": false,
    "pycharm": {
     "name": "#%%\n"
    }
   },
   "outputs": [
    {
     "data": {
      "text/html": [
       "<div>\n",
       "<style scoped>\n",
       "    .dataframe tbody tr th:only-of-type {\n",
       "        vertical-align: middle;\n",
       "    }\n",
       "\n",
       "    .dataframe tbody tr th {\n",
       "        vertical-align: top;\n",
       "    }\n",
       "\n",
       "    .dataframe thead th {\n",
       "        text-align: right;\n",
       "    }\n",
       "</style>\n",
       "<table border=\"1\" class=\"dataframe\">\n",
       "  <thead>\n",
       "    <tr style=\"text-align: right;\">\n",
       "      <th></th>\n",
       "      <th>title</th>\n",
       "    </tr>\n",
       "  </thead>\n",
       "  <tbody>\n",
       "    <tr>\n",
       "      <th>0</th>\n",
       "      <td>«Известия» напомнили о налоге на доходы от вкл...</td>\n",
       "    </tr>\n",
       "    <tr>\n",
       "      <th>17</th>\n",
       "      <td>NYT узнала, как США на украинском опыте готовя...</td>\n",
       "    </tr>\n",
       "    <tr>\n",
       "      <th>15</th>\n",
       "      <td>Жительница Курской области погибла при обстрел...</td>\n",
       "    </tr>\n",
       "    <tr>\n",
       "      <th>1</th>\n",
       "      <td>Овечкин впервые в сезоне сделал дубль и сократ...</td>\n",
       "    </tr>\n",
       "    <tr>\n",
       "      <th>8</th>\n",
       "      <td>Экс-судья КХЛ выступил за дисквалификацию трен...</td>\n",
       "    </tr>\n",
       "  </tbody>\n",
       "</table>\n",
       "</div>"
      ],
      "text/plain": [
       "                                                title\n",
       "0   «Известия» напомнили о налоге на доходы от вкл...\n",
       "17  NYT узнала, как США на украинском опыте готовя...\n",
       "15  Жительница Курской области погибла при обстрел...\n",
       "1   Овечкин впервые в сезоне сделал дубль и сократ...\n",
       "8   Экс-судья КХЛ выступил за дисквалификацию трен..."
      ]
     },
     "execution_count": 9,
     "metadata": {},
     "output_type": "execute_result"
    }
   ],
   "source": [
    "df_title2.head()"
   ]
  },
  {
   "cell_type": "code",
   "execution_count": 10,
   "id": "daab112b",
   "metadata": {
    "collapsed": false,
    "pycharm": {
     "name": "#%%\n"
    }
   },
   "outputs": [],
   "source": [
    "# Функция для присвоения метки настроения на основе наличия положительных или отрицательных слов\n",
    "def get_sentiment(text, df_td=df_tone_dic):\n",
    "    # Токенизация текста на отдельные слова\n",
    "    words = nltk.word_tokenize(text.lower())\n",
    "    sum_value = 0  # Сумма всех зачений весов найденных слов\n",
    "\n",
    "    for word in words:\n",
    "        if len(df_td[df_td.term == word]):\n",
    "            df_filtered = df_td[df_td['term'] == word]\n",
    "            value = df_filtered['value'].iloc[0]\n",
    "            sum_value += value\n",
    "\n",
    "    return sum_value"
   ]
  },
  {
   "cell_type": "code",
   "execution_count": 11,
   "id": "0faf097f",
   "metadata": {
    "collapsed": false,
    "pycharm": {
     "name": "#%%\n"
    }
   },
   "outputs": [],
   "source": [
    "# Функция для присвоения метки настроения на основе оценки полярности настроения\n",
    "def get_sentiment_label(score):\n",
    "    if score < -0.35:\n",
    "        return 'negative'\n",
    "    elif score >= 0.55:\n",
    "        return 'positive'\n",
    "    else:\n",
    "        return 'neutral'"
   ]
  },
  {
   "cell_type": "code",
   "execution_count": 12,
   "id": "93af8d64",
   "metadata": {
    "collapsed": false,
    "pycharm": {
     "name": "#%%\n"
    }
   },
   "outputs": [
    {
     "name": "stdout",
     "output_type": "stream",
     "text": [
      "1.33\n",
      "-0.68\n",
      "0\n"
     ]
    }
   ],
   "source": [
    "print(get_sentiment('Как хорошо, что я успел вовремя'))\n",
    "print(get_sentiment('Удар молнии'))\n",
    "print(get_sentiment('Всё нормально'))"
   ]
  },
  {
   "cell_type": "code",
   "execution_count": 13,
   "id": "83b323f0",
   "metadata": {
    "collapsed": false,
    "pycharm": {
     "name": "#%%\n"
    }
   },
   "outputs": [
    {
     "name": "stdout",
     "output_type": "stream",
     "text": [
      "positive\n",
      "negative\n",
      "neutral\n"
     ]
    }
   ],
   "source": [
    "print(get_sentiment_label(get_sentiment('Как хорошо, что я успел вовремя')))\n",
    "print(get_sentiment_label(get_sentiment('Удар молнии')))\n",
    "print(get_sentiment_label(get_sentiment('Всё нормально')))"
   ]
  },
  {
   "cell_type": "markdown",
   "id": "8d2c34a2",
   "metadata": {
    "collapsed": false,
    "pycharm": {
     "name": "#%% md\n"
    }
   },
   "source": [
    "Присвоим метки настроения на основе правил."
   ]
  },
  {
   "cell_type": "code",
   "execution_count": 14,
   "id": "451c65cb",
   "metadata": {
    "collapsed": false,
    "pycharm": {
     "name": "#%%\n"
    }
   },
   "outputs": [],
   "source": [
    "df_title2['sentiment'] = df_title2['title'].apply(get_sentiment)\n",
    "df_title2['sentiment_label'] = df_title2['sentiment'].apply(get_sentiment_label)"
   ]
  },
  {
   "cell_type": "markdown",
   "id": "9ed11327",
   "metadata": {
    "collapsed": false,
    "pycharm": {
     "name": "#%% md\n"
    }
   },
   "source": [
    "**Задача 3.**\n",
    "Выполните разметку вручную отдельного подмножества выбранного датасета с помощью выбранного вами инструмента разметки.\n",
    "\n",
    "Сохраним датафрем в CSV файл."
   ]
  },
  {
   "cell_type": "code",
   "execution_count": 15,
   "id": "79b1de4b",
   "metadata": {
    "collapsed": false,
    "pycharm": {
     "name": "#%%\n"
    }
   },
   "outputs": [],
   "source": [
    "df_title1.to_csv('manual_marking.csv', index=False)"
   ]
  },
  {
   "cell_type": "markdown",
   "id": "8746890a",
   "metadata": {
    "collapsed": false,
    "pycharm": {
     "name": "#%% md\n"
    }
   },
   "source": [
    "Запускаем локально label-studio и делаем разметку. \\\n",
    "Экспортируем размеченный вручную CSV файл и загружаем его в датафрейм."
   ]
  },
  {
   "cell_type": "code",
   "execution_count": 22,
   "id": "3ba19ceb",
   "metadata": {
    "collapsed": false,
    "pycharm": {
     "name": "#%%\n"
    }
   },
   "outputs": [
    {
     "data": {
      "text/html": [
       "<div>\n",
       "<style scoped>\n",
       "    .dataframe tbody tr th:only-of-type {\n",
       "        vertical-align: middle;\n",
       "    }\n",
       "\n",
       "    .dataframe tbody tr th {\n",
       "        vertical-align: top;\n",
       "    }\n",
       "\n",
       "    .dataframe thead th {\n",
       "        text-align: right;\n",
       "    }\n",
       "</style>\n",
       "<table border=\"1\" class=\"dataframe\">\n",
       "  <thead>\n",
       "    <tr style=\"text-align: right;\">\n",
       "      <th></th>\n",
       "      <th>annotation_id</th>\n",
       "      <th>annotator</th>\n",
       "      <th>created_at</th>\n",
       "      <th>id</th>\n",
       "      <th>lead_time</th>\n",
       "      <th>sentiment</th>\n",
       "      <th>title</th>\n",
       "      <th>updated_at</th>\n",
       "    </tr>\n",
       "  </thead>\n",
       "  <tbody>\n",
       "    <tr>\n",
       "      <th>0</th>\n",
       "      <td>10</td>\n",
       "      <td>2</td>\n",
       "      <td>2024-10-30T07:34:01.830748Z</td>\n",
       "      <td>6</td>\n",
       "      <td>9.877</td>\n",
       "      <td>positive</td>\n",
       "      <td>Апелляционный суд оставил в силе приговор «кра...</td>\n",
       "      <td>2024-10-30T07:36:33.159765Z</td>\n",
       "    </tr>\n",
       "    <tr>\n",
       "      <th>1</th>\n",
       "      <td>9</td>\n",
       "      <td>2</td>\n",
       "      <td>2024-10-30T07:33:50.288514Z</td>\n",
       "      <td>7</td>\n",
       "      <td>7.099</td>\n",
       "      <td>positive</td>\n",
       "      <td>В РАНХиГС сообщили о снижении доли государства...</td>\n",
       "      <td>2024-10-30T07:38:43.713070Z</td>\n",
       "    </tr>\n",
       "    <tr>\n",
       "      <th>2</th>\n",
       "      <td>6</td>\n",
       "      <td>2</td>\n",
       "      <td>2024-10-30T07:33:24.479097Z</td>\n",
       "      <td>8</td>\n",
       "      <td>9.142</td>\n",
       "      <td>negative</td>\n",
       "      <td>Пожар на складе удобрений в Долгопрудном полно...</td>\n",
       "      <td>2024-10-30T07:33:24.479116Z</td>\n",
       "    </tr>\n",
       "    <tr>\n",
       "      <th>3</th>\n",
       "      <td>7</td>\n",
       "      <td>2</td>\n",
       "      <td>2024-10-30T07:33:31.965168Z</td>\n",
       "      <td>9</td>\n",
       "      <td>1.889</td>\n",
       "      <td>negative</td>\n",
       "      <td>Губернатор Курской области рассказал о последс...</td>\n",
       "      <td>2024-10-30T07:33:31.965191Z</td>\n",
       "    </tr>\n",
       "    <tr>\n",
       "      <th>4</th>\n",
       "      <td>8</td>\n",
       "      <td>2</td>\n",
       "      <td>2024-10-30T07:33:39.267219Z</td>\n",
       "      <td>10</td>\n",
       "      <td>1.954</td>\n",
       "      <td>negative</td>\n",
       "      <td>В Москве выявили схемы, по которым более 100 ч...</td>\n",
       "      <td>2024-10-30T07:33:39.267240Z</td>\n",
       "    </tr>\n",
       "  </tbody>\n",
       "</table>\n",
       "</div>"
      ],
      "text/plain": [
       "   annotation_id  annotator                   created_at  id  lead_time  \\\n",
       "0             10          2  2024-10-30T07:34:01.830748Z   6      9.877   \n",
       "1              9          2  2024-10-30T07:33:50.288514Z   7      7.099   \n",
       "2              6          2  2024-10-30T07:33:24.479097Z   8      9.142   \n",
       "3              7          2  2024-10-30T07:33:31.965168Z   9      1.889   \n",
       "4              8          2  2024-10-30T07:33:39.267219Z  10      1.954   \n",
       "\n",
       "  sentiment                                              title  \\\n",
       "0  positive  Апелляционный суд оставил в силе приговор «кра...   \n",
       "1  positive  В РАНХиГС сообщили о снижении доли государства...   \n",
       "2  negative  Пожар на складе удобрений в Долгопрудном полно...   \n",
       "3  negative  Губернатор Курской области рассказал о последс...   \n",
       "4  negative  В Москве выявили схемы, по которым более 100 ч...   \n",
       "\n",
       "                    updated_at  \n",
       "0  2024-10-30T07:36:33.159765Z  \n",
       "1  2024-10-30T07:38:43.713070Z  \n",
       "2  2024-10-30T07:33:24.479116Z  \n",
       "3  2024-10-30T07:33:31.965191Z  \n",
       "4  2024-10-30T07:33:39.267240Z  "
      ]
     },
     "execution_count": 22,
     "metadata": {},
     "output_type": "execute_result"
    }
   ],
   "source": [
    "df_title1 = pd.read_csv('project-2-at-2024-10-30-07-38-c06cfc4f.csv', engine='python', on_bad_lines='skip')\n",
    "df_title1.head(20)"
   ]
  },
  {
   "cell_type": "code",
   "execution_count": 23,
   "id": "24b79ca1",
   "metadata": {
    "collapsed": false,
    "pycharm": {
     "name": "#%%\n"
    }
   },
   "outputs": [
    {
     "data": {
      "text/html": [
       "<div>\n",
       "<style scoped>\n",
       "    .dataframe tbody tr th:only-of-type {\n",
       "        vertical-align: middle;\n",
       "    }\n",
       "\n",
       "    .dataframe tbody tr th {\n",
       "        vertical-align: top;\n",
       "    }\n",
       "\n",
       "    .dataframe thead th {\n",
       "        text-align: right;\n",
       "    }\n",
       "</style>\n",
       "<table border=\"1\" class=\"dataframe\">\n",
       "  <thead>\n",
       "    <tr style=\"text-align: right;\">\n",
       "      <th></th>\n",
       "      <th>title</th>\n",
       "      <th>sentiment_label</th>\n",
       "    </tr>\n",
       "  </thead>\n",
       "  <tbody>\n",
       "    <tr>\n",
       "      <th>0</th>\n",
       "      <td>Апелляционный суд оставил в силе приговор «кра...</td>\n",
       "      <td>positive</td>\n",
       "    </tr>\n",
       "    <tr>\n",
       "      <th>1</th>\n",
       "      <td>В РАНХиГС сообщили о снижении доли государства...</td>\n",
       "      <td>positive</td>\n",
       "    </tr>\n",
       "    <tr>\n",
       "      <th>2</th>\n",
       "      <td>Пожар на складе удобрений в Долгопрудном полно...</td>\n",
       "      <td>negative</td>\n",
       "    </tr>\n",
       "    <tr>\n",
       "      <th>3</th>\n",
       "      <td>Губернатор Курской области рассказал о последс...</td>\n",
       "      <td>negative</td>\n",
       "    </tr>\n",
       "    <tr>\n",
       "      <th>4</th>\n",
       "      <td>В Москве выявили схемы, по которым более 100 ч...</td>\n",
       "      <td>negative</td>\n",
       "    </tr>\n",
       "  </tbody>\n",
       "</table>\n",
       "</div>"
      ],
      "text/plain": [
       "                                               title sentiment_label\n",
       "0  Апелляционный суд оставил в силе приговор «кра...        positive\n",
       "1  В РАНХиГС сообщили о снижении доли государства...        positive\n",
       "2  Пожар на складе удобрений в Долгопрудном полно...        negative\n",
       "3  Губернатор Курской области рассказал о последс...        negative\n",
       "4  В Москве выявили схемы, по которым более 100 ч...        negative"
      ]
     },
     "execution_count": 23,
     "metadata": {},
     "output_type": "execute_result"
    }
   ],
   "source": [
    "df_title1 = df_title1[['title', 'sentiment']].rename(columns={'sentiment': 'sentiment_label'})\n",
    "df_title1.head()"
   ]
  },
  {
   "cell_type": "markdown",
   "id": "87142e3b",
   "metadata": {
    "collapsed": false,
    "pycharm": {
     "name": "#%% md\n"
    }
   },
   "source": [
    "**Задача 4.**\n",
    "Объедините данные, размеченные вручную, с данными, размеченными на основе правил. Объедините два подмножества размеченных данных в один набор данных, сохранив при этом соответствующую структуру и целостность."
   ]
  },
  {
   "cell_type": "code",
   "execution_count": 24,
   "id": "b82bfb4f",
   "metadata": {
    "collapsed": false,
    "pycharm": {
     "name": "#%%\n"
    }
   },
   "outputs": [
    {
     "data": {
      "text/html": [
       "<div>\n",
       "<style scoped>\n",
       "    .dataframe tbody tr th:only-of-type {\n",
       "        vertical-align: middle;\n",
       "    }\n",
       "\n",
       "    .dataframe tbody tr th {\n",
       "        vertical-align: top;\n",
       "    }\n",
       "\n",
       "    .dataframe thead th {\n",
       "        text-align: right;\n",
       "    }\n",
       "</style>\n",
       "<table border=\"1\" class=\"dataframe\">\n",
       "  <thead>\n",
       "    <tr style=\"text-align: right;\">\n",
       "      <th></th>\n",
       "      <th>title</th>\n",
       "      <th>sentiment_label</th>\n",
       "    </tr>\n",
       "  </thead>\n",
       "  <tbody>\n",
       "    <tr>\n",
       "      <th>0</th>\n",
       "      <td>Апелляционный суд оставил в силе приговор «кра...</td>\n",
       "      <td>positive</td>\n",
       "    </tr>\n",
       "    <tr>\n",
       "      <th>1</th>\n",
       "      <td>В РАНХиГС сообщили о снижении доли государства...</td>\n",
       "      <td>positive</td>\n",
       "    </tr>\n",
       "    <tr>\n",
       "      <th>2</th>\n",
       "      <td>Пожар на складе удобрений в Долгопрудном полно...</td>\n",
       "      <td>negative</td>\n",
       "    </tr>\n",
       "    <tr>\n",
       "      <th>3</th>\n",
       "      <td>Губернатор Курской области рассказал о последс...</td>\n",
       "      <td>negative</td>\n",
       "    </tr>\n",
       "    <tr>\n",
       "      <th>4</th>\n",
       "      <td>В Москве выявили схемы, по которым более 100 ч...</td>\n",
       "      <td>negative</td>\n",
       "    </tr>\n",
       "    <tr>\n",
       "      <th>5</th>\n",
       "      <td>«Известия» напомнили о налоге на доходы от вкл...</td>\n",
       "      <td>neutral</td>\n",
       "    </tr>\n",
       "    <tr>\n",
       "      <th>6</th>\n",
       "      <td>NYT узнала, как США на украинском опыте готовя...</td>\n",
       "      <td>neutral</td>\n",
       "    </tr>\n",
       "    <tr>\n",
       "      <th>7</th>\n",
       "      <td>Жительница Курской области погибла при обстрел...</td>\n",
       "      <td>neutral</td>\n",
       "    </tr>\n",
       "    <tr>\n",
       "      <th>8</th>\n",
       "      <td>Овечкин впервые в сезоне сделал дубль и сократ...</td>\n",
       "      <td>negative</td>\n",
       "    </tr>\n",
       "    <tr>\n",
       "      <th>9</th>\n",
       "      <td>Экс-судья КХЛ выступил за дисквалификацию трен...</td>\n",
       "      <td>neutral</td>\n",
       "    </tr>\n",
       "    <tr>\n",
       "      <th>10</th>\n",
       "      <td>Шереметьево на час ограничивало полеты</td>\n",
       "      <td>neutral</td>\n",
       "    </tr>\n",
       "    <tr>\n",
       "      <th>11</th>\n",
       "      <td>Насколько оправданны санкции КХЛ против «Спарт...</td>\n",
       "      <td>neutral</td>\n",
       "    </tr>\n",
       "    <tr>\n",
       "      <th>12</th>\n",
       "      <td>Посольству России не сообщили о задержании жур...</td>\n",
       "      <td>neutral</td>\n",
       "    </tr>\n",
       "    <tr>\n",
       "      <th>13</th>\n",
       "      <td>Эксперты ВШЭ описали дилемму поддержки рождаем...</td>\n",
       "      <td>neutral</td>\n",
       "    </tr>\n",
       "    <tr>\n",
       "      <th>14</th>\n",
       "      <td>В Британии загорелся военный объект на верфи с...</td>\n",
       "      <td>neutral</td>\n",
       "    </tr>\n",
       "    <tr>\n",
       "      <th>15</th>\n",
       "      <td>Букмекеры вошли в десятку крупнейших рекламода...</td>\n",
       "      <td>neutral</td>\n",
       "    </tr>\n",
       "    <tr>\n",
       "      <th>16</th>\n",
       "      <td>Харрис назвала целью Трампа создание «большего...</td>\n",
       "      <td>positive</td>\n",
       "    </tr>\n",
       "    <tr>\n",
       "      <th>17</th>\n",
       "      <td>Microsoft выявила атаку хакеров из «Полуночной...</td>\n",
       "      <td>neutral</td>\n",
       "    </tr>\n",
       "    <tr>\n",
       "      <th>18</th>\n",
       "      <td>Россия сократила ввоз бананов из Эквадора до 1...</td>\n",
       "      <td>neutral</td>\n",
       "    </tr>\n",
       "    <tr>\n",
       "      <th>19</th>\n",
       "      <td>NYT узнала, что Израиль нанес удар по крупному...</td>\n",
       "      <td>negative</td>\n",
       "    </tr>\n",
       "  </tbody>\n",
       "</table>\n",
       "</div>"
      ],
      "text/plain": [
       "                                                title sentiment_label\n",
       "0   Апелляционный суд оставил в силе приговор «кра...        positive\n",
       "1   В РАНХиГС сообщили о снижении доли государства...        positive\n",
       "2   Пожар на складе удобрений в Долгопрудном полно...        negative\n",
       "3   Губернатор Курской области рассказал о последс...        negative\n",
       "4   В Москве выявили схемы, по которым более 100 ч...        negative\n",
       "5   «Известия» напомнили о налоге на доходы от вкл...         neutral\n",
       "6   NYT узнала, как США на украинском опыте готовя...         neutral\n",
       "7   Жительница Курской области погибла при обстрел...         neutral\n",
       "8   Овечкин впервые в сезоне сделал дубль и сократ...        negative\n",
       "9   Экс-судья КХЛ выступил за дисквалификацию трен...         neutral\n",
       "10             Шереметьево на час ограничивало полеты         neutral\n",
       "11  Насколько оправданны санкции КХЛ против «Спарт...         neutral\n",
       "12  Посольству России не сообщили о задержании жур...         neutral\n",
       "13  Эксперты ВШЭ описали дилемму поддержки рождаем...         neutral\n",
       "14  В Британии загорелся военный объект на верфи с...         neutral\n",
       "15  Букмекеры вошли в десятку крупнейших рекламода...         neutral\n",
       "16  Харрис назвала целью Трампа создание «большего...        positive\n",
       "17  Microsoft выявила атаку хакеров из «Полуночной...         neutral\n",
       "18  Россия сократила ввоз бананов из Эквадора до 1...         neutral\n",
       "19  NYT узнала, что Израиль нанес удар по крупному...        negative"
      ]
     },
     "execution_count": 24,
     "metadata": {},
     "output_type": "execute_result"
    }
   ],
   "source": [
    "df_title = pd.concat([df_title1, df_title2], axis=0).reset_index(drop=True)\n",
    "df_title.drop(columns=['sentiment'], inplace=True)\n",
    "df_title.head(20)"
   ]
  },
  {
   "cell_type": "code",
   "execution_count": 20,
   "id": "89dcae2b",
   "metadata": {
    "collapsed": false,
    "pycharm": {
     "name": "#%%\n"
    }
   },
   "outputs": [
    {
     "data": {
      "text/plain": [
       "sentiment_label\n",
       "neutral     12\n",
       "positive     4\n",
       "negative     4\n",
       "Name: count, dtype: int64"
      ]
     },
     "execution_count": 20,
     "metadata": {},
     "output_type": "execute_result"
    }
   ],
   "source": [
    "df_title['sentiment_label'].value_counts()"
   ]
  },
  {
   "cell_type": "markdown",
   "id": "7066c6b5",
   "metadata": {
    "collapsed": false,
    "pycharm": {
     "name": "#%% md\n"
    }
   },
   "source": [
    "**Задача 5.**\n",
    "Обучите модель машинного обучения, используя объединенный набор размеченных данных. Разделите датасет на обучающий и тестовый наборы и используйте обучающий набор для обучения модели."
   ]
  },
  {
   "cell_type": "code",
   "execution_count": 25,
   "id": "186830a9",
   "metadata": {
    "collapsed": false,
    "pycharm": {
     "name": "#%%\n"
    }
   },
   "outputs": [
    {
     "data": {
      "text/html": [
       "<div>\n",
       "<style scoped>\n",
       "    .dataframe tbody tr th:only-of-type {\n",
       "        vertical-align: middle;\n",
       "    }\n",
       "\n",
       "    .dataframe tbody tr th {\n",
       "        vertical-align: top;\n",
       "    }\n",
       "\n",
       "    .dataframe thead th {\n",
       "        text-align: right;\n",
       "    }\n",
       "</style>\n",
       "<table border=\"1\" class=\"dataframe\">\n",
       "  <thead>\n",
       "    <tr style=\"text-align: right;\">\n",
       "      <th></th>\n",
       "      <th>title</th>\n",
       "      <th>sentiment_label</th>\n",
       "    </tr>\n",
       "  </thead>\n",
       "  <tbody>\n",
       "    <tr>\n",
       "      <th>0</th>\n",
       "      <td>Апелляционный суд оставил в силе приговор «кра...</td>\n",
       "      <td>2</td>\n",
       "    </tr>\n",
       "    <tr>\n",
       "      <th>1</th>\n",
       "      <td>В РАНХиГС сообщили о снижении доли государства...</td>\n",
       "      <td>2</td>\n",
       "    </tr>\n",
       "    <tr>\n",
       "      <th>2</th>\n",
       "      <td>Пожар на складе удобрений в Долгопрудном полно...</td>\n",
       "      <td>0</td>\n",
       "    </tr>\n",
       "    <tr>\n",
       "      <th>3</th>\n",
       "      <td>Губернатор Курской области рассказал о последс...</td>\n",
       "      <td>0</td>\n",
       "    </tr>\n",
       "    <tr>\n",
       "      <th>4</th>\n",
       "      <td>В Москве выявили схемы, по которым более 100 ч...</td>\n",
       "      <td>0</td>\n",
       "    </tr>\n",
       "  </tbody>\n",
       "</table>\n",
       "</div>"
      ],
      "text/plain": [
       "                                               title  sentiment_label\n",
       "0  Апелляционный суд оставил в силе приговор «кра...                2\n",
       "1  В РАНХиГС сообщили о снижении доли государства...                2\n",
       "2  Пожар на складе удобрений в Долгопрудном полно...                0\n",
       "3  Губернатор Курской области рассказал о последс...                0\n",
       "4  В Москве выявили схемы, по которым более 100 ч...                0"
      ]
     },
     "execution_count": 25,
     "metadata": {},
     "output_type": "execute_result"
    }
   ],
   "source": [
    "le = LabelEncoder()\n",
    "df_title['sentiment_label'] = le.fit_transform(df_title['sentiment_label'].astype(str))\n",
    "df_title.head()"
   ]
  },
  {
   "cell_type": "code",
   "execution_count": 26,
   "id": "f4ea7c60",
   "metadata": {},
   "outputs": [],
   "source": [
    "import pandas as pd\n",
    "from sklearn.preprocessing import LabelEncoder\n",
    "\n",
    "# Предполагается, что df_title уже загружен и содержит столбец 'sentiment_label'\n",
    "le = LabelEncoder()\n",
    "df_title['sentiment_label'] = le.fit_transform(df_title['sentiment_label'].astype(str))\n",
    "\n",
    "# Сохранение DataFrame в файл test.csv\n",
    "df_title.to_csv('test.csv', index=False)"
   ]
  },
  {
   "cell_type": "code",
   "execution_count": 27,
   "id": "22bc9e28",
   "metadata": {
    "collapsed": false,
    "pycharm": {
     "name": "#%%\n"
    }
   },
   "outputs": [],
   "source": [
    "# перемешаем данные\n",
    "df_title = shuffle(df_title)"
   ]
  },
  {
   "cell_type": "code",
   "execution_count": 28,
   "id": "f97cabc2",
   "metadata": {
    "collapsed": false,
    "pycharm": {
     "name": "#%%\n"
    }
   },
   "outputs": [],
   "source": [
    "# разделим датасет на размеченную и неразмеченную выборки\n",
    "labeled_title, unlabeled_title = train_test_split(df_title, train_size=0.2, random_state=42)"
   ]
  },
  {
   "cell_type": "code",
   "execution_count": 29,
   "id": "c5a4c87a",
   "metadata": {
    "collapsed": false,
    "pycharm": {
     "name": "#%%\n"
    }
   },
   "outputs": [],
   "source": [
    "# функция для обучения модели логистической регрессии на размеченных данных\n",
    "def train_model(labeled_title):\n",
    "    # Векторизация текстовых данных с помощью TF-IDF\n",
    "    vectorizer = TfidfVectorizer()\n",
    "    X = vectorizer.fit_transform(labeled_title['title'])\n",
    "    y = labeled_title['sentiment_label']\n",
    "\n",
    "    # Обучение модели логистической регрессии на размеченных данных\n",
    "    model = LogisticRegression()\n",
    "    model.fit(X, y)\n",
    "\n",
    "    return model, vectorizer"
   ]
  },
  {
   "cell_type": "code",
   "execution_count": 30,
   "id": "3caefae0",
   "metadata": {
    "collapsed": false,
    "pycharm": {
     "name": "#%%\n"
    }
   },
   "outputs": [],
   "source": [
    "# обучение начальной модели на небольшом наборе\n",
    "model, vectorizer = train_model(labeled_title)"
   ]
  },
  {
   "cell_type": "code",
   "execution_count": 31,
   "id": "bdc1b785",
   "metadata": {
    "collapsed": false,
    "pycharm": {
     "name": "#%%\n"
    }
   },
   "outputs": [],
   "source": [
    "# использование исходной модели для прогнозирования настроения неразмеченных данных\n",
    "X_unlabeled = vectorizer.transform(unlabeled_title['title'])\n",
    "y_unlabeled_predicted = model.predict(X_unlabeled)"
   ]
  },
  {
   "cell_type": "code",
   "execution_count": 32,
   "id": "5f21a866",
   "metadata": {
    "collapsed": false,
    "pycharm": {
     "name": "#%%\n"
    }
   },
   "outputs": [],
   "source": [
    "# вычисление неопределенности или энтропии предсказаний\n",
    "y_unlabeled_proba = model.predict_proba(X_unlabeled)\n",
    "uncertainty = -(y_unlabeled_proba * np.log2(y_unlabeled_proba)).sum(axis=1)"
   ]
  },
  {
   "cell_type": "code",
   "execution_count": 33,
   "id": "ea0749eb",
   "metadata": {
    "collapsed": false,
    "pycharm": {
     "name": "#%%\n"
    }
   },
   "outputs": [],
   "source": [
    "# выбор 100 наиболее неопределенных точек данных для маркировки человеком\n",
    "labeled_title_new = unlabeled_title.iloc[uncertainty.argsort()[:100]]\n",
    "unlabeled_title_new = unlabeled_title.iloc[uncertainty.argsort()[100:]]"
   ]
  },
  {
   "cell_type": "code",
   "execution_count": 34,
   "id": "2d766a92",
   "metadata": {
    "collapsed": false,
    "pycharm": {
     "name": "#%%\n"
    }
   },
   "outputs": [
    {
     "data": {
      "text/plain": [
       "(20, 2)"
      ]
     },
     "execution_count": 34,
     "metadata": {},
     "output_type": "execute_result"
    }
   ],
   "source": [
    "# разметка новых точек данных и добавление их к размеченному множеству\n",
    "labeled_title = pd.concat([labeled_title, labeled_title_new])\n",
    "labeled_title.shape"
   ]
  },
  {
   "cell_type": "code",
   "execution_count": 35,
   "id": "46abe3e1",
   "metadata": {
    "collapsed": false,
    "pycharm": {
     "name": "#%%\n"
    }
   },
   "outputs": [],
   "source": [
    "# переобучение модели на расширенном маркированном множестве\n",
    "model, vectorizer = train_model(labeled_title)"
   ]
  },
  {
   "cell_type": "markdown",
   "id": "ac4c5b6e",
   "metadata": {
    "collapsed": false,
    "pycharm": {
     "name": "#%% md\n"
    }
   },
   "source": [
    "**Задача 6.**\n",
    "Оценить эффективность обученной модели на тестовом датасете. Используйте подходящие метрики оценки. Интерпретируйте результаты и проанализируйте эффективность модели в решении задачи разметки."
   ]
  },
  {
   "cell_type": "code",
   "execution_count": 36,
   "id": "0da817e1",
   "metadata": {
    "pycharm": {
     "name": "#%%\n"
    }
   },
   "outputs": [],
   "source": [
    "### Загружаем тестовый датасет\n",
    "title_test = pd.read_csv('test.csv', engine='python', on_bad_lines='skip')"
   ]
  },
  {
   "cell_type": "code",
   "execution_count": 37,
   "id": "28ef1582",
   "metadata": {
    "pycharm": {
     "name": "#%%\n"
    }
   },
   "outputs": [
    {
     "data": {
      "text/html": [
       "<div>\n",
       "<style scoped>\n",
       "    .dataframe tbody tr th:only-of-type {\n",
       "        vertical-align: middle;\n",
       "    }\n",
       "\n",
       "    .dataframe tbody tr th {\n",
       "        vertical-align: top;\n",
       "    }\n",
       "\n",
       "    .dataframe thead th {\n",
       "        text-align: right;\n",
       "    }\n",
       "</style>\n",
       "<table border=\"1\" class=\"dataframe\">\n",
       "  <thead>\n",
       "    <tr style=\"text-align: right;\">\n",
       "      <th></th>\n",
       "      <th>title</th>\n",
       "      <th>sentiment_label</th>\n",
       "    </tr>\n",
       "  </thead>\n",
       "  <tbody>\n",
       "    <tr>\n",
       "      <th>0</th>\n",
       "      <td>Апелляционный суд оставил в силе приговор «кра...</td>\n",
       "      <td>2</td>\n",
       "    </tr>\n",
       "    <tr>\n",
       "      <th>1</th>\n",
       "      <td>В РАНХиГС сообщили о снижении доли государства...</td>\n",
       "      <td>2</td>\n",
       "    </tr>\n",
       "    <tr>\n",
       "      <th>2</th>\n",
       "      <td>Пожар на складе удобрений в Долгопрудном полно...</td>\n",
       "      <td>0</td>\n",
       "    </tr>\n",
       "    <tr>\n",
       "      <th>3</th>\n",
       "      <td>Губернатор Курской области рассказал о последс...</td>\n",
       "      <td>0</td>\n",
       "    </tr>\n",
       "    <tr>\n",
       "      <th>4</th>\n",
       "      <td>В Москве выявили схемы, по которым более 100 ч...</td>\n",
       "      <td>0</td>\n",
       "    </tr>\n",
       "    <tr>\n",
       "      <th>5</th>\n",
       "      <td>«Известия» напомнили о налоге на доходы от вкл...</td>\n",
       "      <td>1</td>\n",
       "    </tr>\n",
       "    <tr>\n",
       "      <th>6</th>\n",
       "      <td>NYT узнала, как США на украинском опыте готовя...</td>\n",
       "      <td>1</td>\n",
       "    </tr>\n",
       "    <tr>\n",
       "      <th>7</th>\n",
       "      <td>Жительница Курской области погибла при обстрел...</td>\n",
       "      <td>1</td>\n",
       "    </tr>\n",
       "    <tr>\n",
       "      <th>8</th>\n",
       "      <td>Овечкин впервые в сезоне сделал дубль и сократ...</td>\n",
       "      <td>0</td>\n",
       "    </tr>\n",
       "    <tr>\n",
       "      <th>9</th>\n",
       "      <td>Экс-судья КХЛ выступил за дисквалификацию трен...</td>\n",
       "      <td>1</td>\n",
       "    </tr>\n",
       "    <tr>\n",
       "      <th>10</th>\n",
       "      <td>Шереметьево на час ограничивало полеты</td>\n",
       "      <td>1</td>\n",
       "    </tr>\n",
       "    <tr>\n",
       "      <th>11</th>\n",
       "      <td>Насколько оправданны санкции КХЛ против «Спарт...</td>\n",
       "      <td>1</td>\n",
       "    </tr>\n",
       "    <tr>\n",
       "      <th>12</th>\n",
       "      <td>Посольству России не сообщили о задержании жур...</td>\n",
       "      <td>1</td>\n",
       "    </tr>\n",
       "    <tr>\n",
       "      <th>13</th>\n",
       "      <td>Эксперты ВШЭ описали дилемму поддержки рождаем...</td>\n",
       "      <td>1</td>\n",
       "    </tr>\n",
       "    <tr>\n",
       "      <th>14</th>\n",
       "      <td>В Британии загорелся военный объект на верфи с...</td>\n",
       "      <td>1</td>\n",
       "    </tr>\n",
       "    <tr>\n",
       "      <th>15</th>\n",
       "      <td>Букмекеры вошли в десятку крупнейших рекламода...</td>\n",
       "      <td>1</td>\n",
       "    </tr>\n",
       "    <tr>\n",
       "      <th>16</th>\n",
       "      <td>Харрис назвала целью Трампа создание «большего...</td>\n",
       "      <td>2</td>\n",
       "    </tr>\n",
       "    <tr>\n",
       "      <th>17</th>\n",
       "      <td>Microsoft выявила атаку хакеров из «Полуночной...</td>\n",
       "      <td>1</td>\n",
       "    </tr>\n",
       "    <tr>\n",
       "      <th>18</th>\n",
       "      <td>Россия сократила ввоз бананов из Эквадора до 1...</td>\n",
       "      <td>1</td>\n",
       "    </tr>\n",
       "    <tr>\n",
       "      <th>19</th>\n",
       "      <td>NYT узнала, что Израиль нанес удар по крупному...</td>\n",
       "      <td>0</td>\n",
       "    </tr>\n",
       "  </tbody>\n",
       "</table>\n",
       "</div>"
      ],
      "text/plain": [
       "                                                title  sentiment_label\n",
       "0   Апелляционный суд оставил в силе приговор «кра...                2\n",
       "1   В РАНХиГС сообщили о снижении доли государства...                2\n",
       "2   Пожар на складе удобрений в Долгопрудном полно...                0\n",
       "3   Губернатор Курской области рассказал о последс...                0\n",
       "4   В Москве выявили схемы, по которым более 100 ч...                0\n",
       "5   «Известия» напомнили о налоге на доходы от вкл...                1\n",
       "6   NYT узнала, как США на украинском опыте готовя...                1\n",
       "7   Жительница Курской области погибла при обстрел...                1\n",
       "8   Овечкин впервые в сезоне сделал дубль и сократ...                0\n",
       "9   Экс-судья КХЛ выступил за дисквалификацию трен...                1\n",
       "10             Шереметьево на час ограничивало полеты                1\n",
       "11  Насколько оправданны санкции КХЛ против «Спарт...                1\n",
       "12  Посольству России не сообщили о задержании жур...                1\n",
       "13  Эксперты ВШЭ описали дилемму поддержки рождаем...                1\n",
       "14  В Британии загорелся военный объект на верфи с...                1\n",
       "15  Букмекеры вошли в десятку крупнейших рекламода...                1\n",
       "16  Харрис назвала целью Трампа создание «большего...                2\n",
       "17  Microsoft выявила атаку хакеров из «Полуночной...                1\n",
       "18  Россия сократила ввоз бананов из Эквадора до 1...                1\n",
       "19  NYT узнала, что Израиль нанес удар по крупному...                0"
      ]
     },
     "execution_count": 37,
     "metadata": {},
     "output_type": "execute_result"
    }
   ],
   "source": [
    "title_test['sentiment_label'] = le.fit_transform(title_test['sentiment_label'].astype(str))\n",
    "title_test.head(20)"
   ]
  },
  {
   "cell_type": "code",
   "execution_count": 38,
   "id": "e1108108",
   "metadata": {
    "collapsed": false,
    "pycharm": {
     "name": "#%%\n"
    }
   },
   "outputs": [],
   "source": [
    "X_test = vectorizer.transform(title_test['title'])\n",
    "y_test_predicted = model.predict(X_test)"
   ]
  },
  {
   "cell_type": "code",
   "execution_count": 39,
   "id": "10ecea87",
   "metadata": {},
   "outputs": [
    {
     "name": "stdout",
     "output_type": "stream",
     "text": [
      "[2 0 1]\n",
      "[0 1]\n"
     ]
    }
   ],
   "source": [
    "import numpy as np\n",
    "\n",
    "# Печать уникальных значений для sentiment_label\n",
    "print(title_test['sentiment_label'].unique())\n",
    "\n",
    "# Печать уникальных значений для y_test_predicted\n",
    "print(np.unique(y_test_predicted))"
   ]
  },
  {
   "cell_type": "markdown",
   "id": "5645f4fa",
   "metadata": {
    "collapsed": false,
    "pycharm": {
     "name": "#%% md\n"
    }
   },
   "source": [
    "В качестве критерия качества модели выберем метрику F1-measure. Она отражает точностью (Precision) и полноту (Recall) и рассчитывается как их среднее гармоническое.\n",
    "\n",
    "$Precision = \\cfrac{TP}{TP + FP}$\n",
    "<br><br>\n",
    "\n",
    "$Recall = \\cfrac{TP}{TP + FN}$\n",
    "<br><br>\n",
    "\n",
    "$F_1 = \\cfrac{2}{\\cfrac{1}{Recall} + \\cfrac{1}{Precision}} = 2 \\cfrac{Recall \\cdot Precision}{Recall + Precision} = \\cfrac{TP}{TP + \\cfrac{FP + FN}{2}}$"
   ]
  },
  {
   "cell_type": "code",
   "execution_count": 40,
   "id": "d5b31b3b",
   "metadata": {
    "collapsed": false,
    "pycharm": {
     "name": "#%%\n"
    }
   },
   "outputs": [
    {
     "name": "stdout",
     "output_type": "stream",
     "text": [
      "0.75\n"
     ]
    }
   ],
   "source": [
    "f1 = f1_score(title_test['sentiment_label'], y_test_predicted, average='micro')\n",
    "print(f1)"
   ]
  },
  {
   "cell_type": "markdown",
   "id": "93016a70",
   "metadata": {
    "collapsed": false,
    "pycharm": {
     "name": "#%% md\n"
    }
   },
   "source": [
    "Эффективность обученной модели составила 75%.\n",
    "\n",
    "Разметка на основе правил существенно экономит время и увеличивает производительность, но не всегда положительно влияет на качество набора данных."
   ]
  }
 ],
 "metadata": {
  "kernelspec": {
   "display_name": "Python 3",
   "language": "python",
   "name": "python3"
  },
  "language_info": {
   "codemirror_mode": {
    "name": "ipython",
    "version": 3
   },
   "file_extension": ".py",
   "mimetype": "text/x-python",
   "name": "python",
   "nbconvert_exporter": "python",
   "pygments_lexer": "ipython3",
   "version": "3.13.0"
  }
 },
 "nbformat": 4,
 "nbformat_minor": 5
}
